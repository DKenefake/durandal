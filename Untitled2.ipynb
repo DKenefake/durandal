{
 "cells": [
  {
   "cell_type": "code",
   "execution_count": 207,
   "metadata": {},
   "outputs": [],
   "source": [
    "## MP Modeling\n",
    "\n",
    "from enum import Enum\n",
    "import copy\n",
    "\n",
    "class VType(Enum):\n",
    "    CONT = 'C'\n",
    "    BIN = 'B'\n",
    "    INT = 'Z'\n",
    "\n",
    "class LExpression:\n",
    "    variable_coeffs: dict\n",
    "    const_coeff: float\n",
    "    \n",
    "    def __init__(self, var_dict = None, const_coeff = 0):\n",
    "        if var_dict is None:\n",
    "            var_dict = dict()\n",
    "            \n",
    "        self.variable_coeffs = var_dict\n",
    "        self.const_coeff = const_coeff\n",
    "    \n",
    "    def __repr__(self):\n",
    "        var_keys = [(var, val) for var, val in self.variable_coeffs.items()]\n",
    "        \n",
    "        #make the expression start at the beggining\n",
    "        output = str(var_keys[0][1])  + var_keys[0][0].name\n",
    "        \n",
    "        for var, val in var_keys[1:]:\n",
    "            if val == 0:\n",
    "                continue\n",
    "            if val < 0:\n",
    "                output += \" \" + str(val) + var.name\n",
    "            else:\n",
    "                output += \" +\" + str(val)+  var.name\n",
    "        \n",
    "        return output + \" + \" +  str(self.const_coeff)\n",
    "    \n",
    "    def __add__(self, rhs) -> LExpression:\n",
    "        \n",
    "        if isinstance(rhs, float):            \n",
    "            return LExpression(copy.deepcopy(self.variable_coeffs), self.const_coeff + rhs)\n",
    "            \n",
    "        if isinstance(rhs, Variable):\n",
    "            \n",
    "            var_coeffs = copy.deepcopy(self.variable_coeffs)\n",
    "            \n",
    "            # check if the variable is in the model\n",
    "            if rhs in var_coeffs: \n",
    "                var_coeffs[rhs] += 1\n",
    "            else:\n",
    "                var_coeffs.update({rhs:1})\n",
    "            return LExpression(var_coeffs, self.const_coeff)\n",
    "        \n",
    "        if isinstance(rhs, LExpression):\n",
    "            # complicated case where we are going to do some stuff\n",
    "            # make set of all variables in both expressions\n",
    "            \n",
    "            #given a set of two different variables combine them on like tuples (model,)\n",
    "            \n",
    "            \n",
    "            var_set = set(rhs.variable_coeffs.keys())\n",
    "            print(var_set)\n",
    "            \n",
    "            var_set.update(set(self.variable_coeffs.keys()))\n",
    "            print(var_set)\n",
    "            new_coeff = {var:0 for var in var_set}  \n",
    "            \n",
    "            # check if the variable in is the assigned set\n",
    "            for var in var_set:\n",
    "                new_coeff[var] += self.variable_coeffs.get(var, 0)\n",
    "                new_coeff[var] += rhs.variable_coeffs.get(var, 0)\n",
    "            \n",
    "            new_const_coeff = rhs.const_coeff + self.const_coeff\n",
    "                \n",
    "            return LExpression(new_coeff,new_const_coeff)\n",
    "    \n",
    "    def __mul__(self, rhs) -> LExpression:\n",
    "        \n",
    "        # only valid thing here is a numerical number\n",
    "        if isinstance(rhs, float):\n",
    "            new_var_instance = {var:rhs*val for var,val in self.variable_coeffs.items()}\n",
    "            return LExpression(new_var_instance, self.const_coeff*rhs)\n",
    "        ArithmeticError('FUK')\n",
    "    \n",
    "    def __neg__(self) -> LExpression:\n",
    "        return \n",
    "    \n",
    "class Variable:\n",
    "    vtype: VType\n",
    "    name: str\n",
    "    model_id: str\n",
    "    var_id: int\n",
    "    \n",
    "    def __init__(self, vtype, name, model_id, var_id):\n",
    "        self.vtype = vtype\n",
    "        self.name = name\n",
    "        self.model_id = model_id\n",
    "        self.var_id = var_id\n",
    "    \n",
    "    def __add__(self,rhs) -> LExpression:\n",
    "        \n",
    "        # if we are adding an LExpression then we just call the LExpression code\n",
    "        if isinstance(rhs, LExpression):\n",
    "            return rhs.add(self)\n",
    "        # id we are adding a float to a variable we need to make a new LExpression\n",
    "        if isinstance(rhs, float):\n",
    "            return LExpression({self:1}, rhs)\n",
    "        \n",
    "        if isinstance(rhs, Variable):\n",
    "            return LExpression({self:1, rhs:1}, 0)\n",
    "    \n",
    "    def __repr__(self):\n",
    "        return f\"{self.name}\"\n",
    "    \n",
    "    def __eq__(self, rhs):\n",
    "        \n",
    "        if not isinstance(rhs, Variable):\n",
    "            TypeError('YOOOOOOO')\n",
    "            \n",
    "        return self.model_id == rhs.model_id and self.var_id == rhs.var_id and self.vtype == rhs.vtype and self.name == rhs.name\n",
    "    \n",
    "    def __hash__(self) -> int:\n",
    "        return self.var_id\n",
    "    \n",
    "class Constraint:\n",
    "    constraint_lhs: LExpression\n",
    "    constraint_rhs: LExpression\n",
    "    \n",
    "class Model:\n",
    "    objective: LExpression\n",
    "    constraints: list\n",
    "    variables: list\n",
    "    name: str\n",
    "    \n",
    "    def __init__(self, obj = None, constraints = None, var = None, name = None):\n",
    "        if obj is None:\n",
    "            obj = LExpression()\n",
    "        \n",
    "        self.objective = obj\n",
    "        \n",
    "        if constraints is None:\n",
    "            constraints = []\n",
    "            \n",
    "        self.constraints = constraints\n",
    "        \n",
    "        if var is None:\n",
    "            var = []\n",
    "            \n",
    "        self.variables = var\n",
    "        \n",
    "        if name is None:\n",
    "            name = \"MODELYEYE\"\n",
    "        \n",
    "        self.name = name\n",
    "    \n",
    "    def addVar(self, vtype, name):\n",
    "        variable = Variable(vtype, name, self, len(self.variables))\n",
    "        self.variables.append(variable)\n",
    "        return variable\n",
    "    \n",
    "    def addConstr(self, constr):\n",
    "        self.constraints.append(constr)\n",
    "    "
   ]
  },
  {
   "cell_type": "code",
   "execution_count": 208,
   "metadata": {},
   "outputs": [
    {
     "name": "stdout",
     "output_type": "stream",
     "text": [
      "1X +1X220 + 3.0\n"
     ]
    }
   ],
   "source": [
    "print(Variable(VType.CONT, 'X', m, 1) + 1.0 + 2.0 + Variable(VType.CONT, 'X220', m, 1))"
   ]
  },
  {
   "cell_type": "code",
   "execution_count": 209,
   "metadata": {},
   "outputs": [],
   "source": [
    "m = Model()\n",
    "z1 = m.addVar(VType.INT, 'z')\n",
    "x1 = m.addVar(VType.CONT, 'x')"
   ]
  },
  {
   "cell_type": "code",
   "execution_count": 210,
   "metadata": {},
   "outputs": [
    {
     "name": "stdout",
     "output_type": "stream",
     "text": [
      "{z: 1.5, x: 1.5}\n",
      "{z: -1.5, x: -1.5}\n"
     ]
    }
   ],
   "source": [
    "expr1 = (z1 + x1 + 2.0)*1.5\n",
    "expr2 = (z1 + x1 + 2.0)*-1.5\n",
    "\n",
    "\n",
    "print(expr1.variable_coeffs)\n",
    "print(expr2.variable_coeffs)\n"
   ]
  },
  {
   "cell_type": "code",
   "execution_count": 213,
   "metadata": {},
   "outputs": [
    {
     "name": "stdout",
     "output_type": "stream",
     "text": [
      "{z, x}\n",
      "{z, x, z, x}\n"
     ]
    }
   ],
   "source": [
    "expr3 = expr2 + expr1"
   ]
  },
  {
   "cell_type": "code",
   "execution_count": 214,
   "metadata": {},
   "outputs": [
    {
     "data": {
      "text/plain": [
       "{z: 1.5, x: 1.5, z: -1.5, x: -1.5}"
      ]
     },
     "execution_count": 214,
     "metadata": {},
     "output_type": "execute_result"
    }
   ],
   "source": [
    "expr3.variable_coeffs"
   ]
  },
  {
   "cell_type": "code",
   "execution_count": 215,
   "metadata": {},
   "outputs": [
    {
     "data": {
      "text/plain": [
       "1.5z +1.5x -1.5z -1.5x + 0.0"
      ]
     },
     "execution_count": 215,
     "metadata": {},
     "output_type": "execute_result"
    }
   ],
   "source": [
    "expr3"
   ]
  },
  {
   "cell_type": "code",
   "execution_count": null,
   "metadata": {},
   "outputs": [],
   "source": []
  }
 ],
 "metadata": {
  "kernelspec": {
   "display_name": "Python 3",
   "language": "python",
   "name": "python3"
  },
  "language_info": {
   "codemirror_mode": {
    "name": "ipython",
    "version": 3
   },
   "file_extension": ".py",
   "mimetype": "text/x-python",
   "name": "python",
   "nbconvert_exporter": "python",
   "pygments_lexer": "ipython3",
   "version": "3.7.3"
  }
 },
 "nbformat": 4,
 "nbformat_minor": 2
}
